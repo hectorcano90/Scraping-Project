{
 "cells": [
  {
   "cell_type": "markdown",
   "metadata": {},
   "source": [
    "# Scraping Project"
   ]
  },
  {
   "cell_type": "markdown",
   "metadata": {},
   "source": [
    "# IMDB Top Rated TV shows \n",
    "\n",
    "This project consists in Scrapping an IMDB Top Rated TV shows list, that contains the best 250 TV shows.\n",
    "\n",
    "The database includes the following variables: \n",
    "\n",
    "- Rank\n",
    "- TV show\n",
    "- IMDB Rating\n",
    "- URL of the TV show in IMDB\n",
    "- Year\n",
    "- Star Cast"
   ]
  },
  {
   "cell_type": "markdown",
   "metadata": {},
   "source": [
    "## 1. Importing the webpage"
   ]
  },
  {
   "cell_type": "code",
   "execution_count": 1,
   "metadata": {},
   "outputs": [],
   "source": [
    "import requests\n",
    "page = requests.get('https://www.imdb.com/chart/toptv/?ref_=nv_tvv_250')"
   ]
  },
  {
   "cell_type": "code",
   "execution_count": 2,
   "metadata": {
    "scrolled": true
   },
   "outputs": [
    {
     "name": "stdout",
     "output_type": "stream",
     "text": [
      "\n",
      "\n",
      "\n",
      "<!DOCTYPE html>\n",
      "<html\n",
      "    xmlns:og=\"http://ogp.me/ns#\"\n",
      "    xmlns:fb=\"http://www.facebook.com/2008/fbml\">\n",
      "    <head>\n",
      "         \n",
      "        <meta charset=\"utf-8\">\n",
      "        <meta http-equiv=\"X-UA-Compatible\" content=\"IE=edge\">\n",
      "\n",
      "    \n",
      "    \n",
      "    \n",
      "\n",
      "    \n",
      "    \n",
      "    \n",
      "\n",
      "    <meta name=\"apple-itunes-app\" content=\"app-id=342792525, app-argument=imdb:///?src=mdot\">\n",
      "            <style>\n",
      "                body#styleguide-v2 {\n",
      "                    background: no-repeat fixed center top #000;\n",
      "                }\n",
      "           \n"
     ]
    }
   ],
   "source": [
    "print(page.text[0:500])"
   ]
  },
  {
   "cell_type": "markdown",
   "metadata": {},
   "source": [
    "## 2. Parsing HTML with BeautifulSoup"
   ]
  },
  {
   "cell_type": "code",
   "execution_count": 3,
   "metadata": {},
   "outputs": [],
   "source": [
    "from bs4 import BeautifulSoup\n",
    "soup = BeautifulSoup(page.text, 'html.parser')"
   ]
  },
  {
   "cell_type": "markdown",
   "metadata": {},
   "source": [
    "## 3. Collecting the records"
   ]
  },
  {
   "cell_type": "code",
   "execution_count": 4,
   "metadata": {},
   "outputs": [],
   "source": [
    "import re"
   ]
  },
  {
   "cell_type": "code",
   "execution_count": 5,
   "metadata": {},
   "outputs": [
    {
     "data": {
      "text/plain": [
       "'IMDb Top 250 TV - IMDb'"
      ]
     },
     "execution_count": 5,
     "metadata": {},
     "output_type": "execute_result"
    }
   ],
   "source": [
    "soup.title.string"
   ]
  },
  {
   "cell_type": "code",
   "execution_count": 6,
   "metadata": {},
   "outputs": [],
   "source": [
    "TVshows = soup.select('td.titleColumn')"
   ]
  },
  {
   "cell_type": "code",
   "execution_count": 7,
   "metadata": {},
   "outputs": [],
   "source": [
    "rank = [b.attrs.get('data-value') for b in soup.select('td.posterColumn span[name=rk]')]"
   ]
  },
  {
   "cell_type": "code",
   "execution_count": 8,
   "metadata": {},
   "outputs": [],
   "source": [
    "urls = [a.attrs.get('href') for a in soup.select('td.titleColumn a')]"
   ]
  },
  {
   "cell_type": "code",
   "execution_count": 9,
   "metadata": {},
   "outputs": [],
   "source": [
    "crew = [a.attrs.get('title') for a in soup.select('td.titleColumn a')]"
   ]
  },
  {
   "cell_type": "code",
   "execution_count": 10,
   "metadata": {},
   "outputs": [],
   "source": [
    "ratings = [b.attrs.get('data-value') for b in soup.select('td.posterColumn span[name=ir]')]"
   ]
  },
  {
   "cell_type": "code",
   "execution_count": 11,
   "metadata": {},
   "outputs": [],
   "source": [
    "imdb_list_tv = []\n",
    "\n",
    "for i in range(0, len(TVshows)):\n",
    "    TV_string = TVshows[i].get_text()\n",
    "    TV = (' '.join(TV_string.split()).replace('.', ''))\n",
    "    TV_title = TV[len(str(i))+1:-7]\n",
    "    year = re.search('\\((.*?)\\)', TV_string).group(1)\n",
    "    place = TV[:len(str(i))-(len(TV))]\n",
    "    data = {\"TV Show\": TV_title,\n",
    "            \"Year\": year,\n",
    "            \"Rank\": rank[i],\n",
    "            \"Star Cast\": crew[i],\n",
    "            \"Rating\": ratings[i],\n",
    "            \"url\": 'www.imdb.com' + urls[i]}\n",
    "    imdb_list_tv.append(data)"
   ]
  },
  {
   "cell_type": "markdown",
   "metadata": {},
   "source": [
    "## 4. Constructing the Data Frame"
   ]
  },
  {
   "cell_type": "code",
   "execution_count": 12,
   "metadata": {},
   "outputs": [],
   "source": [
    "import pandas as pd\n",
    "dftv = pd.DataFrame(imdb_list_tv, columns=['Rank', 'TV Show', 'Year', 'Star Cast', 'Rating', 'url'])"
   ]
  },
  {
   "cell_type": "code",
   "execution_count": 13,
   "metadata": {},
   "outputs": [
    {
     "data": {
      "text/html": [
       "<div>\n",
       "<style scoped>\n",
       "    .dataframe tbody tr th:only-of-type {\n",
       "        vertical-align: middle;\n",
       "    }\n",
       "\n",
       "    .dataframe tbody tr th {\n",
       "        vertical-align: top;\n",
       "    }\n",
       "\n",
       "    .dataframe thead th {\n",
       "        text-align: right;\n",
       "    }\n",
       "</style>\n",
       "<table border=\"1\" class=\"dataframe\">\n",
       "  <thead>\n",
       "    <tr style=\"text-align: right;\">\n",
       "      <th></th>\n",
       "      <th>Rank</th>\n",
       "      <th>TV Show</th>\n",
       "      <th>Year</th>\n",
       "      <th>Star Cast</th>\n",
       "      <th>Rating</th>\n",
       "      <th>url</th>\n",
       "    </tr>\n",
       "  </thead>\n",
       "  <tbody>\n",
       "    <tr>\n",
       "      <th>0</th>\n",
       "      <td>1</td>\n",
       "      <td>Planeta Tierra II</td>\n",
       "      <td>2016</td>\n",
       "      <td>David Attenborough</td>\n",
       "      <td>9.498023497499817</td>\n",
       "      <td>www.imdb.com/title/tt5491994/?pf_rd_m=A2FGELUU...</td>\n",
       "    </tr>\n",
       "    <tr>\n",
       "      <th>1</th>\n",
       "      <td>2</td>\n",
       "      <td>Hermanos de sangre</td>\n",
       "      <td>2001</td>\n",
       "      <td>Scott Grimes, Damian Lewis</td>\n",
       "      <td>9.455660989345807</td>\n",
       "      <td>www.imdb.com/title/tt0185906/?pf_rd_m=A2FGELUU...</td>\n",
       "    </tr>\n",
       "    <tr>\n",
       "      <th>2</th>\n",
       "      <td>3</td>\n",
       "      <td>Juego de tronos</td>\n",
       "      <td>2011</td>\n",
       "      <td>Emilia Clarke, Peter Dinklage</td>\n",
       "      <td>9.444816116815037</td>\n",
       "      <td>www.imdb.com/title/tt0944947/?pf_rd_m=A2FGELUU...</td>\n",
       "    </tr>\n",
       "    <tr>\n",
       "      <th>3</th>\n",
       "      <td>4</td>\n",
       "      <td>Planeta Tierra</td>\n",
       "      <td>2006</td>\n",
       "      <td>David Attenborough, Sigourney Weaver</td>\n",
       "      <td>9.443685136356558</td>\n",
       "      <td>www.imdb.com/title/tt0795176/?pf_rd_m=A2FGELUU...</td>\n",
       "    </tr>\n",
       "    <tr>\n",
       "      <th>4</th>\n",
       "      <td>5</td>\n",
       "      <td>Breaking Bad</td>\n",
       "      <td>2008</td>\n",
       "      <td>Bryan Cranston, Aaron Paul</td>\n",
       "      <td>9.410885777486014</td>\n",
       "      <td>www.imdb.com/title/tt0903747/?pf_rd_m=A2FGELUU...</td>\n",
       "    </tr>\n",
       "    <tr>\n",
       "      <th>5</th>\n",
       "      <td>6</td>\n",
       "      <td>The Wire (Bajo escucha)</td>\n",
       "      <td>Bajo escucha</td>\n",
       "      <td>Dominic West, Lance Reddick</td>\n",
       "      <td>9.306207737185034</td>\n",
       "      <td>www.imdb.com/title/tt0306414/?pf_rd_m=A2FGELUU...</td>\n",
       "    </tr>\n",
       "    <tr>\n",
       "      <th>6</th>\n",
       "      <td>7</td>\n",
       "      <td>Cosmos: Una odisea en el espacio-tiempo</td>\n",
       "      <td>2014</td>\n",
       "      <td>Neil deGrasse Tyson, Stoney Emshwiller</td>\n",
       "      <td>9.252967388132209</td>\n",
       "      <td>www.imdb.com/title/tt2395695/?pf_rd_m=A2FGELUU...</td>\n",
       "    </tr>\n",
       "    <tr>\n",
       "      <th>7</th>\n",
       "      <td>8</td>\n",
       "      <td>Rick y Morty</td>\n",
       "      <td>2013</td>\n",
       "      <td>Justin Roiland, Chris Parnell</td>\n",
       "      <td>9.231547136982353</td>\n",
       "      <td>www.imdb.com/title/tt2861424/?pf_rd_m=A2FGELUU...</td>\n",
       "    </tr>\n",
       "    <tr>\n",
       "      <th>8</th>\n",
       "      <td>9</td>\n",
       "      <td>Cosmos</td>\n",
       "      <td>1980</td>\n",
       "      <td>Carl Sagan, Jaromír Hanzlík</td>\n",
       "      <td>9.224728275671467</td>\n",
       "      <td>www.imdb.com/title/tt0081846/?pf_rd_m=A2FGELUU...</td>\n",
       "    </tr>\n",
       "    <tr>\n",
       "      <th>9</th>\n",
       "      <td>10</td>\n",
       "      <td>Planeta azul II</td>\n",
       "      <td>2017</td>\n",
       "      <td>David Attenborough, Peter Drost</td>\n",
       "      <td>9.211800559044013</td>\n",
       "      <td>www.imdb.com/title/tt6769208/?pf_rd_m=A2FGELUU...</td>\n",
       "    </tr>\n",
       "    <tr>\n",
       "      <th>10</th>\n",
       "      <td>11</td>\n",
       "      <td>Los Soprano</td>\n",
       "      <td>1999</td>\n",
       "      <td>James Gandolfini, Lorraine Bracco</td>\n",
       "      <td>9.14466020936204</td>\n",
       "      <td>www.imdb.com/title/tt0141842/?pf_rd_m=A2FGELUU...</td>\n",
       "    </tr>\n",
       "    <tr>\n",
       "      <th>11</th>\n",
       "      <td>12</td>\n",
       "      <td>El mundo en guerra</td>\n",
       "      <td>1973</td>\n",
       "      <td>Laurence Olivier, Anthony Eden</td>\n",
       "      <td>9.141259260610623</td>\n",
       "      <td>www.imdb.com/title/tt0071075/?pf_rd_m=A2FGELUU...</td>\n",
       "    </tr>\n",
       "    <tr>\n",
       "      <th>12</th>\n",
       "      <td>13</td>\n",
       "      <td>Avatar: La leyenda de Aang</td>\n",
       "      <td>2003</td>\n",
       "      <td>Dee Bradley Baker, Zach Tyler</td>\n",
       "      <td>9.116912187064814</td>\n",
       "      <td>www.imdb.com/title/tt0417299/?pf_rd_m=A2FGELUU...</td>\n",
       "    </tr>\n",
       "    <tr>\n",
       "      <th>13</th>\n",
       "      <td>14</td>\n",
       "      <td>Life</td>\n",
       "      <td>2009</td>\n",
       "      <td>David Attenborough, Oprah Winfrey</td>\n",
       "      <td>9.111451014780188</td>\n",
       "      <td>www.imdb.com/title/tt1533395/?pf_rd_m=A2FGELUU...</td>\n",
       "    </tr>\n",
       "    <tr>\n",
       "      <th>14</th>\n",
       "      <td>15</td>\n",
       "      <td>Sherlock</td>\n",
       "      <td>2010</td>\n",
       "      <td>Benedict Cumberbatch, Martin Freeman</td>\n",
       "      <td>9.09512214465682</td>\n",
       "      <td>www.imdb.com/title/tt1475582/?pf_rd_m=A2FGELUU...</td>\n",
       "    </tr>\n",
       "  </tbody>\n",
       "</table>\n",
       "</div>"
      ],
      "text/plain": [
       "   Rank                                  TV Show          Year  \\\n",
       "0     1                        Planeta Tierra II          2016   \n",
       "1     2                       Hermanos de sangre          2001   \n",
       "2     3                          Juego de tronos          2011   \n",
       "3     4                           Planeta Tierra          2006   \n",
       "4     5                             Breaking Bad          2008   \n",
       "5     6                  The Wire (Bajo escucha)  Bajo escucha   \n",
       "6     7  Cosmos: Una odisea en el espacio-tiempo          2014   \n",
       "7     8                             Rick y Morty          2013   \n",
       "8     9                                   Cosmos          1980   \n",
       "9    10                          Planeta azul II          2017   \n",
       "10   11                              Los Soprano          1999   \n",
       "11   12                       El mundo en guerra          1973   \n",
       "12   13               Avatar: La leyenda de Aang          2003   \n",
       "13   14                                     Life          2009   \n",
       "14   15                                 Sherlock          2010   \n",
       "\n",
       "                                 Star Cast             Rating  \\\n",
       "0                       David Attenborough  9.498023497499817   \n",
       "1               Scott Grimes, Damian Lewis  9.455660989345807   \n",
       "2            Emilia Clarke, Peter Dinklage  9.444816116815037   \n",
       "3     David Attenborough, Sigourney Weaver  9.443685136356558   \n",
       "4               Bryan Cranston, Aaron Paul  9.410885777486014   \n",
       "5              Dominic West, Lance Reddick  9.306207737185034   \n",
       "6   Neil deGrasse Tyson, Stoney Emshwiller  9.252967388132209   \n",
       "7            Justin Roiland, Chris Parnell  9.231547136982353   \n",
       "8              Carl Sagan, Jaromír Hanzlík  9.224728275671467   \n",
       "9          David Attenborough, Peter Drost  9.211800559044013   \n",
       "10       James Gandolfini, Lorraine Bracco   9.14466020936204   \n",
       "11          Laurence Olivier, Anthony Eden  9.141259260610623   \n",
       "12           Dee Bradley Baker, Zach Tyler  9.116912187064814   \n",
       "13       David Attenborough, Oprah Winfrey  9.111451014780188   \n",
       "14    Benedict Cumberbatch, Martin Freeman   9.09512214465682   \n",
       "\n",
       "                                                  url  \n",
       "0   www.imdb.com/title/tt5491994/?pf_rd_m=A2FGELUU...  \n",
       "1   www.imdb.com/title/tt0185906/?pf_rd_m=A2FGELUU...  \n",
       "2   www.imdb.com/title/tt0944947/?pf_rd_m=A2FGELUU...  \n",
       "3   www.imdb.com/title/tt0795176/?pf_rd_m=A2FGELUU...  \n",
       "4   www.imdb.com/title/tt0903747/?pf_rd_m=A2FGELUU...  \n",
       "5   www.imdb.com/title/tt0306414/?pf_rd_m=A2FGELUU...  \n",
       "6   www.imdb.com/title/tt2395695/?pf_rd_m=A2FGELUU...  \n",
       "7   www.imdb.com/title/tt2861424/?pf_rd_m=A2FGELUU...  \n",
       "8   www.imdb.com/title/tt0081846/?pf_rd_m=A2FGELUU...  \n",
       "9   www.imdb.com/title/tt6769208/?pf_rd_m=A2FGELUU...  \n",
       "10  www.imdb.com/title/tt0141842/?pf_rd_m=A2FGELUU...  \n",
       "11  www.imdb.com/title/tt0071075/?pf_rd_m=A2FGELUU...  \n",
       "12  www.imdb.com/title/tt0417299/?pf_rd_m=A2FGELUU...  \n",
       "13  www.imdb.com/title/tt1533395/?pf_rd_m=A2FGELUU...  \n",
       "14  www.imdb.com/title/tt1475582/?pf_rd_m=A2FGELUU...  "
      ]
     },
     "execution_count": 13,
     "metadata": {},
     "output_type": "execute_result"
    }
   ],
   "source": [
    "dftv.head(15)"
   ]
  },
  {
   "cell_type": "markdown",
   "metadata": {},
   "source": [
    "## 5. Putting the information in a CSV"
   ]
  },
  {
   "cell_type": "code",
   "execution_count": 14,
   "metadata": {},
   "outputs": [],
   "source": [
    "dftv.to_csv('IMDB_250_TV.csv', index=False, encoding='utf-8')"
   ]
  },
  {
   "cell_type": "code",
   "execution_count": null,
   "metadata": {},
   "outputs": [],
   "source": [
    "import requests\n",
    "page = requests.get('https://www.imdb.com/chart/toptv/?ref_=nv_tvv_250')"
   ]
  }
 ],
 "metadata": {
  "kernelspec": {
   "display_name": "Python 3",
   "language": "python",
   "name": "python3"
  },
  "language_info": {
   "codemirror_mode": {
    "name": "ipython",
    "version": 3
   },
   "file_extension": ".py",
   "mimetype": "text/x-python",
   "name": "python",
   "nbconvert_exporter": "python",
   "pygments_lexer": "ipython3",
   "version": "3.6.5"
  }
 },
 "nbformat": 4,
 "nbformat_minor": 2
}
